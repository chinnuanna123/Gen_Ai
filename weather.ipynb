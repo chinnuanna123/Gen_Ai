{
  "nbformat": 4,
  "nbformat_minor": 0,
  "metadata": {
    "colab": {
      "provenance": [],
      "authorship_tag": "ABX9TyO25fedfTj22U12pIcb6ykc",
      "include_colab_link": true
    },
    "kernelspec": {
      "name": "python3",
      "display_name": "Python 3"
    },
    "language_info": {
      "name": "python"
    }
  },
  "cells": [
    {
      "cell_type": "markdown",
      "metadata": {
        "id": "view-in-github",
        "colab_type": "text"
      },
      "source": [
        "<a href=\"https://colab.research.google.com/github/chinnuanna123/Gen_Ai/blob/master/weather.ipynb\" target=\"_parent\"><img src=\"https://colab.research.google.com/assets/colab-badge.svg\" alt=\"Open In Colab\"/></a>"
      ]
    },
    {
      "cell_type": "code",
      "source": [
        "!pip uninstall openai"
      ],
      "metadata": {
        "id": "D83FeDoXS4ob"
      },
      "execution_count": null,
      "outputs": []
    },
    {
      "cell_type": "code",
      "source": [
        "!pip install openai==0.28.0"
      ],
      "metadata": {
        "id": "PS9or5JvTAkR"
      },
      "execution_count": null,
      "outputs": []
    },
    {
      "cell_type": "code",
      "execution_count": 2,
      "metadata": {
        "id": "44_fCk7cHxc5"
      },
      "outputs": [],
      "source": [
        "import openai\n",
        "import requests\n",
        "import json\n",
        "import os\n",
        "from datetime import datetime\n",
        "from google.colab import userdata\n"
      ]
    },
    {
      "cell_type": "code",
      "source": [
        "!pip install streamlit"
      ],
      "metadata": {
        "id": "pw1QUXanUnuP"
      },
      "execution_count": null,
      "outputs": []
    },
    {
      "cell_type": "code",
      "source": [
        "key1 = userdata.get('open_key')"
      ],
      "metadata": {
        "id": "xHjL6XySKs4P"
      },
      "execution_count": 134,
      "outputs": []
    },
    {
      "cell_type": "code",
      "source": [
        "key2 = userdata.get('sky_key')"
      ],
      "metadata": {
        "id": "yOELlyybK4iI"
      },
      "execution_count": 136,
      "outputs": []
    },
    {
      "cell_type": "code",
      "source": [
        "completion=openai.ChatCompletion.create(\n",
        "    model=\"gpt-3.5-turbo\",\n",
        "    messages=[\n",
        "        {\"role\": \"system\",\"content\": \"You are a helpful assistant to find the current weather of given location.\"},\n",
        "        {\"role\": \"user\",\"content\": \"Hey there\"}\n",
        "    ]\n",
        ")"
      ],
      "metadata": {
        "id": "IleJuDOWIezd"
      },
      "execution_count": 63,
      "outputs": []
    },
    {
      "cell_type": "code",
      "source": [
        "print(completion.choices[0].message)"
      ],
      "metadata": {
        "colab": {
          "base_uri": "https://localhost:8080/"
        },
        "id": "06fbkRvRP2by",
        "outputId": "79525a55-5e77-4076-ffcd-bfa979566a9b"
      },
      "execution_count": 130,
      "outputs": [
        {
          "output_type": "stream",
          "name": "stdout",
          "text": [
            "{\n",
            "  \"role\": \"assistant\",\n",
            "  \"content\": \"Hello! How can I assist you today?\",\n",
            "  \"refusal\": null\n",
            "}\n"
          ]
        }
      ]
    },
    {
      "cell_type": "code",
      "source": [
        "messages"
      ],
      "metadata": {
        "colab": {
          "base_uri": "https://localhost:8080/"
        },
        "id": "ytWM3f2YFUFp",
        "outputId": "a2c43853-b734-4ec8-fd5f-c959987d46d2"
      },
      "execution_count": 132,
      "outputs": [
        {
          "output_type": "execute_result",
          "data": {
            "text/plain": [
              "[{'role': 'user', 'content': 'What is the weather in Bangalore'}]"
            ]
          },
          "metadata": {},
          "execution_count": 132
        }
      ]
    },
    {
      "cell_type": "code",
      "source": [
        "response"
      ],
      "metadata": {
        "colab": {
          "base_uri": "https://localhost:8080/"
        },
        "id": "VoVLZZXxRPVI",
        "outputId": "f197e5ae-c6a2-4473-a5d0-05356e72eb2b"
      },
      "execution_count": 133,
      "outputs": [
        {
          "output_type": "execute_result",
          "data": {
            "text/plain": [
              "<OpenAIObject at 0x7b564cd32d50> JSON: {\n",
              "  \"role\": \"assistant\",\n",
              "  \"content\": null,\n",
              "  \"function_call\": {\n",
              "    \"name\": \"get_weather\",\n",
              "    \"arguments\": \"{\\\"location\\\":\\\"Bangalore\\\"}\"\n",
              "  },\n",
              "  \"refusal\": null\n",
              "}"
            ]
          },
          "metadata": {},
          "execution_count": 133
        }
      ]
    },
    {
      "cell_type": "markdown",
      "source": [
        "# Define function for OpenAI function calling"
      ],
      "metadata": {
        "id": "aYmyCAPqW81V"
      }
    },
    {
      "cell_type": "code",
      "source": [
        "functions = [\n",
        "    {\n",
        "        \"name\": \"get_weather\",\n",
        "        \"description\": \"Get the current weather for a given location\",\n",
        "        \"parameters\": {\n",
        "            \"type\": \"object\",\n",
        "            \"properties\": {\n",
        "                \"location\": {\n",
        "                    \"type\": \"string\",\n",
        "                    \"description\": \"Name of the location to get weather for\"\n",
        "                }\n",
        "            },\n",
        "            \"required\": [\"location\"]\n",
        "        }\n",
        "    }\n",
        "]"
      ],
      "metadata": {
        "id": "7t_DRdu9W9sZ"
      },
      "execution_count": 35,
      "outputs": []
    },
    {
      "cell_type": "markdown",
      "source": [
        "to interact with the assistant"
      ],
      "metadata": {
        "id": "yljylOpge8fs"
      }
    },
    {
      "cell_type": "code",
      "source": [
        "user_message = \"What is the weather in Bangalore\"\n",
        "messages=[]\n",
        "messages.append({\"role\": \"user\", \"content\": user_message})\n",
        "completion=openai.ChatCompletion.create(\n",
        "    model=\"gpt-3.5-turbo\",\n",
        "    messages=messages,\n",
        "\n",
        "\n",
        "\n",
        ")\n"
      ],
      "metadata": {
        "id": "WVQGaQ_se9u2"
      },
      "execution_count": 131,
      "outputs": []
    },
    {
      "cell_type": "markdown",
      "source": [
        "Define function to get weather"
      ],
      "metadata": {
        "id": "296UfNgaosoL"
      }
    },
    {
      "cell_type": "code",
      "source": [
        "import json\n",
        "import requests\n",
        "def get_weather(location):\n",
        "  \"\"\"   Get the current weather in a given location \"\"\"\n",
        "\n",
        "  url = \"https://ai-weather-by-meteosource.p.rapidapi.com/find_places\"\n",
        "\n",
        "  querystring = {\"text\":location}\n",
        "\n",
        "  headers = {\n",
        "\t  \"x-rapidapi-key\": \"b98e3183a1mshf53fdb1cadeb949p14ef73jsn7689c86972c6\",\n",
        "\t  \"x-rapidapi-host\": \"ai-weather-by-meteosource.p.rapidapi.com\"\n",
        "}\n",
        "\n",
        "  response = requests.get(url, headers=headers, params=querystring)\n",
        "\n",
        "  print(type(response))\n",
        "  return response.json()"
      ],
      "metadata": {
        "id": "33f1DMm72C3B"
      },
      "execution_count": 86,
      "outputs": []
    },
    {
      "cell_type": "code",
      "source": [
        "import json\n",
        "import requests\n",
        "location=eval(response['function_call']['arguments'])['location']\n",
        "print(location)"
      ],
      "metadata": {
        "colab": {
          "base_uri": "https://localhost:8080/"
        },
        "id": "h23f8d44KTdo",
        "outputId": "89fde7ec-7b15-4e2e-b054-db96f2abfb28"
      },
      "execution_count": 92,
      "outputs": [
        {
          "output_type": "stream",
          "name": "stdout",
          "text": [
            "Bangalore\n"
          ]
        }
      ]
    },
    {
      "cell_type": "code",
      "source": [
        "function_name=response['function_call']['name']\n",
        "print(function_name)"
      ],
      "metadata": {
        "colab": {
          "base_uri": "https://localhost:8080/"
        },
        "id": "ZN9Eben3M4S2",
        "outputId": "f7d61f77-09fd-42e4-d7d5-504277d0763c"
      },
      "execution_count": 94,
      "outputs": [
        {
          "output_type": "stream",
          "name": "stdout",
          "text": [
            "get_weather\n"
          ]
        }
      ]
    },
    {
      "cell_type": "markdown",
      "source": [
        "Get weather info and add to conversation"
      ],
      "metadata": {
        "id": "V5rH6533o8lE"
      }
    },
    {
      "cell_type": "code",
      "source": [
        "messages.append(response)\n",
        "messages.append(\n",
        "    {\n",
        "        \"role\": 'function',\n",
        "        \"name\": function_name,\n",
        "        \"content\": location,\n",
        "    }\n",
        "\n",
        ")"
      ],
      "metadata": {
        "id": "Aekb4nJnNrtn"
      },
      "execution_count": 112,
      "outputs": []
    },
    {
      "cell_type": "markdown",
      "source": [
        "Continue the conversation with function response"
      ],
      "metadata": {
        "id": "642wmm5WpERS"
      }
    },
    {
      "cell_type": "code",
      "source": [
        "second_response = openai.ChatCompletion.create(\n",
        "    model=\"gpt-3.5-turbo\",\n",
        "    messages=messages,\n",
        "    functions=functions\n",
        ")"
      ],
      "metadata": {
        "id": "u0xo8c7bR3Jo"
      },
      "execution_count": 115,
      "outputs": []
    },
    {
      "cell_type": "code",
      "source": [
        "print(second_response.choices[0].message)"
      ],
      "metadata": {
        "colab": {
          "base_uri": "https://localhost:8080/"
        },
        "id": "FL8g5x94TGbF",
        "outputId": "8156c636-fe82-4c03-b413-3e8e8c686f09"
      },
      "execution_count": 124,
      "outputs": [
        {
          "output_type": "stream",
          "name": "stdout",
          "text": [
            "{\n",
            "  \"role\": \"assistant\",\n",
            "  \"content\": \"The current weather in Bangalore is 28\\u00b0C with clear sky.\",\n",
            "  \"refusal\": null\n",
            "}\n"
          ]
        }
      ]
    },
    {
      "cell_type": "code",
      "source": [
        "second_response"
      ],
      "metadata": {
        "colab": {
          "base_uri": "https://localhost:8080/"
        },
        "id": "A8RPNb1goStt",
        "outputId": "b588ccdd-792f-4578-a776-09617ee66d73"
      },
      "execution_count": 126,
      "outputs": [
        {
          "output_type": "execute_result",
          "data": {
            "text/plain": [
              "<OpenAIObject chat.completion id=chatcmpl-B3PwgrJrvEZu6tYZCUu67G0wnXfhy at 0x7b564cc9b890> JSON: {\n",
              "  \"id\": \"chatcmpl-B3PwgrJrvEZu6tYZCUu67G0wnXfhy\",\n",
              "  \"object\": \"chat.completion\",\n",
              "  \"created\": 1740154418,\n",
              "  \"model\": \"gpt-3.5-turbo-0125\",\n",
              "  \"choices\": [\n",
              "    {\n",
              "      \"index\": 0,\n",
              "      \"message\": {\n",
              "        \"role\": \"assistant\",\n",
              "        \"content\": \"The current weather in Bangalore is 28\\u00b0C with clear sky.\",\n",
              "        \"refusal\": null\n",
              "      },\n",
              "      \"logprobs\": null,\n",
              "      \"finish_reason\": \"stop\"\n",
              "    }\n",
              "  ],\n",
              "  \"usage\": {\n",
              "    \"prompt_tokens\": 90,\n",
              "    \"completion_tokens\": 15,\n",
              "    \"total_tokens\": 105,\n",
              "    \"prompt_tokens_details\": {\n",
              "      \"cached_tokens\": 0,\n",
              "      \"audio_tokens\": 0\n",
              "    },\n",
              "    \"completion_tokens_details\": {\n",
              "      \"reasoning_tokens\": 0,\n",
              "      \"audio_tokens\": 0,\n",
              "      \"accepted_prediction_tokens\": 0,\n",
              "      \"rejected_prediction_tokens\": 0\n",
              "    }\n",
              "  },\n",
              "  \"service_tier\": \"default\",\n",
              "  \"system_fingerprint\": null\n",
              "}"
            ]
          },
          "metadata": {},
          "execution_count": 126
        }
      ]
    }
  ]
}